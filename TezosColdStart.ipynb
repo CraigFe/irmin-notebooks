{
 "cells": [
  {
   "cell_type": "code",
   "execution_count": 1,
   "id": "neither-pitch",
   "metadata": {},
   "outputs": [
    {
     "ename": "error",
     "evalue": "compile_error",
     "output_type": "error",
     "traceback": [
      "File \"[1]\", line 1, characters 14-16:\n1 | import pandas as pd\n                  ^^\nError: Syntax error\n"
     ]
    }
   ],
   "source": [
    "import pandas as pd\n",
    "import seaborn as sns\n",
    "import matplotlib.pyplot as plt\n",
    "\n",
    "coldStartMain = [ 4.00516, 3.84833, 3.85345, 3.88478, 3.90226, 3.94484, 3.90026, 4.1385, 4.0357, 3.89352 ]\n",
    "warmStartMain = [ 0.511226, 0.403558, 0.538072, 0.399375, 0.3776, 0.445159, 0.412271, 0.370052, 0.404734, 0.397037 ]\n",
    "\n",
    "df = pd.concat([\n",
    "  pd.Series(coldStartMain, name = 'cold start'),\n",
    "  pd.Series(warmStartMain, name = 'warm start'),\n",
    "], axis=1)\n",
    "\n",
    "sns.boxplot(data = df, x='variable', y='value', hue='direction')\n"
   ]
  },
  {
   "cell_type": "code",
   "execution_count": null,
   "id": "crude-subscriber",
   "metadata": {},
   "outputs": [],
   "source": []
  }
 ],
 "metadata": {
  "kernelspec": {
   "display_name": "OCaml ocaml.4.10.0",
   "language": "OCaml",
   "name": "ocaml-jupyter"
  },
  "language_info": {
   "codemirror_mode": "text/x-ocaml",
   "file_extension": ".ml",
   "mimetype": "text/x-ocaml",
   "name": "OCaml",
   "nbconverter_exporter": null,
   "pygments_lexer": "OCaml",
   "version": "4.10.0"
  }
 },
 "nbformat": 4,
 "nbformat_minor": 5
}
